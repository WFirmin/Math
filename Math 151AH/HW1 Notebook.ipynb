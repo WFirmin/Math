{
 "cells": [
  {
   "attachments": {},
   "cell_type": "markdown",
   "metadata": {},
   "source": [
    "# Will Firmin\n",
    "# Math 151AH: HW1\n",
    "# Problem 1\n",
    "### a)"
   ]
  },
  {
   "cell_type": "code",
   "execution_count": 3,
   "metadata": {},
   "outputs": [
    {
     "name": "stdout",
     "output_type": "stream",
     "text": [
      "Calculated:\n",
      " 4.999999583255033e-07\n",
      "True:\n",
      " 4.9999995833333472222219742063519620811078710385413014376488... ×10^-7\n"
     ]
    }
   ],
   "source": [
    "\n",
    "import math\n",
    "import matplotlib.pyplot as plt\n",
    "print(\"Calculated:\\n\",1 - math.cos(10**-3))\n",
    "print(\"True:\\n\",\"4.9999995833333472222219742063519620811078710385413014376488... ×10^-7\")"
   ]
  },
  {
   "cell_type": "markdown",
   "metadata": {},
   "source": [
    "\n",
    "Accurate to 10 digits.\n",
    "\n",
    "### b)\n",
    "Identity: $1-\\cos(\\theta)=2\\sin^2(\\frac{\\theta}2)$\n",
    "\n",
    "### c)"
   ]
  },
  {
   "cell_type": "code",
   "execution_count": 4,
   "metadata": {},
   "outputs": [
    {
     "name": "stdout",
     "output_type": "stream",
     "text": [
      "4.999999583333347e-07\n"
     ]
    }
   ],
   "source": [
    "\n",
    "print(2*math.sin(10**-3 / 2)**2)\n"
   ]
  },
  {
   "attachments": {},
   "cell_type": "markdown",
   "metadata": {},
   "source": [
    "\n",
    "Accurate to all 16 digits; this is much better than before.\n",
    "# Problem 2\n",
    "### a)\n",
    "By Taylor's Theorem,\n",
    "$$\\sin(\\frac{\\pi}2+\\delta) = \\sin(\\frac{\\pi}2)-\\frac12\\sin(\\zeta)\\delta^2$$\n",
    "for $\\zeta\\in(\\frac\\pi2,\\frac\\pi2+\\delta)$.  Therefore\n",
    "$$\n",
    "\\begin{aligned}\n",
    "|\\sin(\\frac\\pi2)-\\sin(\\frac\\pi2+\\delta)|&<10^{-\\beta} \\\\\n",
    "\\Rightarrow\\frac12\\sin(\\zeta)\\delta^2&<10^{-\\beta} \\\\\n",
    "\\Rightarrow\\delta^2&<\\frac{2*10^{-\\beta}}{\\sin(\\zeta)} \\\\\n",
    "\\Rightarrow\\delta^2&<\\frac{2*10^{-\\beta}}{\\sin(\\frac\\pi2+1)} \\\\\n",
    "\\Rightarrow\\delta&<\\sqrt{\\frac{2*10^{-\\beta}}{\\sin(\\frac\\pi2+1)}}\n",
    "\\end{aligned}\n",
    "$$\n",
    "\n",
    "\n",
    "### b)\n"
   ]
  },
  {
   "cell_type": "code",
   "execution_count": 92,
   "metadata": {},
   "outputs": [
    {
     "name": "stdout",
     "output_type": "stream",
     "text": [
      "delta = 1.0536712280462268e-08\n"
     ]
    }
   ],
   "source": [
    "\n",
    "fun = lambda x: math.sin(math.pi / 2 + x)\n",
    "\n",
    "d = 0.1\n",
    "lowest_not = 1\n",
    "highest_is = 0\n",
    "for i in range(1000):\n",
    "  if fun(d) == 1:\n",
    "    highest_is = d\n",
    "  else:\n",
    "    lowest_not = d\n",
    "  d = (highest_is + lowest_not)/2\n",
    "\n",
    "print(f\"delta = {d}\")\n"
   ]
  },
  {
   "attachments": {},
   "cell_type": "markdown",
   "metadata": {},
   "source": [
    "# Problem 3\n",
    "### a)\n",
    "$$\n",
    "\\begin{aligned}\n",
    "f(x)&=1.01e^{4x}-4.62e^{3x}-3.11e^{2x}+12.2e^x-1.99 \\\\\n",
    "f(1.53)&=1.01(4.62^4)-4.62(4.62^3)-3.11(4.62^2)+12.2(4.62)-1.99 \\\\\n",
    "&= 1.01(21.3^2)-(21.3^2)-3.11(21.3)+56.4-1.99\\\\\n",
    "&= 1.01(454)-454-66.2+56.4-1.99\\\\\n",
    "&= 459 - 454-66.2+56.4-1.99\\\\\n",
    "&= 5-66.2+56.4-1.99\\\\\n",
    "&= -61.2+56.4-1.99\\\\\n",
    "&= -4.8-1.99\\\\\n",
    "&= -6.79\n",
    "\\end{aligned}\n",
    "$$\n",
    "### b)\n",
    "$$f(x)=e^x(e^x(e^x(1.01e^x-4.62)-3.11)+12.2)-1.99$$\n",
    "### c)\n",
    "$$\n",
    "\\begin{aligned}\n",
    "f(1.53)&= 4.62(4.62(4.62(1.01(4.62)-4.62)-3.11)+12.2)-1.99 \\\\\n",
    "&= 4.62(4.62(4.62(0.05)-3.11)+12.2)-1.99 \\\\\n",
    "&= 4.62(4.62(-2.88)+12.2)-1.99 \\\\\n",
    "&= 4.62(-1.1)-1.99 \\\\\n",
    "&= -7.07\n",
    "\\end{aligned}\n",
    "$$\n",
    "### d)\n",
    "The nested form has greater accuracy.  Its error is almost half that of the original form."
   ]
  },
  {
   "attachments": {},
   "cell_type": "markdown",
   "metadata": {},
   "source": [
    "# Problem 4\n",
    "### a)\n",
    "$\\renewcommand\\fl{\\text{fl}}$\n",
    "$$\n",
    "\\begin{aligned}\n",
    "e_k&=\\fl(A_k)-A_k \\\\\n",
    "&= (\\fl(A_{k-1})+a_k)(1+\\delta_k)-A_k \\\\\n",
    "&= (1+\\delta_k)\\fl(A_{k-1})+(1+\\delta_k)a_k-A_k \\\\\n",
    "&= (1+\\delta_k)(e_{k-1}+A_{k-1})+(1+\\delta_k)a_k-A_k \\\\\n",
    "&= (1+\\delta_k)e_{k-1}+(1+\\delta_k)(A_{k-1}+a_k)-A_k \\\\\n",
    "&= (1+\\delta_k)e_{k-1} + (1+\\delta_k)A_k - A_k \\\\\n",
    "&= (1+\\delta_k)e_{k-1}+\\delta_k A_k\n",
    "\\end{aligned}\n",
    "$$\n",
    "### b)\n",
    "$$\n",
    "\\begin{aligned}\n",
    "e_k - e_{k-1} &= \\delta_ke_{k-1}+\\delta_k A_k \\\\\n",
    "\\Rightarrow \\sum_{k=2}^n(e_k-e_{k-1}) &= \\sum_{k=2}^n(\\delta_ke_{k-1}+\\delta_k A_k) \\\\\n",
    "\\Rightarrow e_n-e_1 &= \\sum_{k=2}^n\\delta_k A_k + \\sum_{k=2}^n\\delta_k e_{k-1} \\\\\n",
    "\\Rightarrow e_n &= \\sum_{k=2}^n\\delta_k A_k + \\sum_{k=2}^n\\delta_k e_{k-1} + e_1 \\\\\n",
    "&= \\sum_{k=2}^n\\delta_k A_k + \\sum_{k=2}^n\\delta_k e_{k-1} \\\\\n",
    "\\end{aligned}\n",
    "$$\n",
    "All that is left to show is $\\sum_{k=2}^n\\delta_k e_{k-1}=O(\\epsilon_M^2)$:\n",
    "$$\n",
    "\\begin{aligned}\n",
    "|\\sum_{k=2}^n\\delta_k e_{k-1}|&\\leq\\sum_{k=2}^n|\\delta_k e_{k-1}| \\\\\n",
    "&\\leq\\sum_{k=2}^n\\epsilon_M|e_{k-1}| \\\\\n",
    "&\\leq \\sum_{k=2}^n\\epsilon_M^2|A_{k-1}| &&(\\text{Since  }\\frac{|e_{k-1}|}{|A_{k-1}|}\\leq\\epsilon_M^2) \\\\\n",
    "&\\leq \\sum_{k=2}^n\\epsilon_M^2A &&\\text{for  }A=\\max_k\\{|A_k|\\} \\\\\n",
    "&= A(n-1)\\epsilon_M^2 \\\\\n",
    "&= O(\\epsilon_M^2)\n",
    "\\end{aligned}\n",
    "$$\n",
    "It is preferable to start with the smallest numbers so $A_k$ stays smaller longer.  This reduces the effect of each $\\delta_k$ on $e_n$.  Starting with the larger numbers would keep $A_k$ large and increase the effect of each $\\delta_k$."
   ]
  },
  {
   "attachments": {},
   "cell_type": "markdown",
   "metadata": {},
   "source": [
    "# Problem 5\n",
    "By Taylor's Theorem we have that\n",
    "$$\n",
    "\\begin{aligned}\n",
    "f(x)&=\\frac1{t!}f^{(t)}(\\zeta_0)(x-x^*)^t &&\\text{for  }\\zeta_0\\in(x^*,x)\\\\\n",
    "\\text{and  } f'(x)&= \\frac1{(t-1)!}f^{(t)}(\\zeta_1)(x-x^*)^{t-1} &&\\text{for  }\\zeta_1\\in(x^*,x)\\\\\n",
    "\\end{aligned}\n",
    "$$\n",
    "Then for Newton's method with $x_n=x_{n-1}-\\frac{f(x_{n-1})}{f'(x_{n-1})}$,\n",
    "$$\n",
    "\\begin{aligned}\n",
    "|x_n-x^*|&=|f(x_{n-1})-x^*| \\\\\n",
    "&= |x_{n-1}-\\frac1t\\frac{f^{(t)}(\\zeta_{0n})}{f^{(t)}(\\zeta_{1n})}(x_{n-1}-x^*)-x^*| &&\\text{for  }\\zeta_{0n},\\zeta_{1n}\\in(x^*,x_{n-1})\\\\\n",
    "&= |x_{n-1}-x^*||1-\\frac1t\\frac{f^{(t)}(\\zeta_{0n})}{f^{(t)}(\\zeta_{1n})}| \\\\\n",
    "\\Rightarrow \\lim_{n\\rightarrow\\infty}\\frac{|x_n-x^*|}{|x_{n-1}-x^*|}&=\\lim_{n\\rightarrow\\infty}|1-\\frac1t\\frac{f^{(t)}(\\zeta_{0n})}{f^{(t)}(\\zeta_{1n})}| \\\\\n",
    "&= |1-\\frac1t\\frac{f^{(t)}(x^*)}{f^{(t)}(x^*)}| &&\\text{since  }\\zeta_{0n},\\zeta_{1n}\\rightarrow x^*\\text{  by the squeeze theorem}\n",
    "&= 1-\\frac1t\n",
    "\\end{aligned}\n",
    "$$\n"
   ]
  },
  {
   "attachments": {},
   "cell_type": "markdown",
   "metadata": {},
   "source": [
    "# Problem 6\n",
    "$$\n",
    "\\begin{aligned}\n",
    "g(x)&=x-\\frac{f(x)^2}{f(x+f(x))-f(x)} \\\\\n",
    "\\Rightarrow g'(x)&=1-\\frac{2f(x)f'(x)}{f(x+f(x))-f(x)} + \\frac{f(x)^2[f'(x+f(x))(1+f'(x))-f'(x)]}{[f(x+f(x))-f(x)]^2} \\hspace{4em} \\text{By L'Hopital's rule,}\\\\\n",
    "\\lim_{x\\rightarrow x^*}g'(x)&=1-\\lim_{x\\rightarrow x^*}\\frac{2f'(x)^2+2f(x)f{''}(x)}{f'(x+f(x))(1+f'(x))-f'(x)} + \\lim_{x\\rightarrow x^*}\\frac{2f(x)f'(x)[f'(x+f(x))(1+f'(x))-f'(x)]+f(x)^2[f{''}(x+f(x))(1+f'(x))^2+f{''}(x)f'(x+f(x))-f{''}(x)]}{2[f(x+f(x))-f(x)][f'(x+f(x))(1+f'(x))-f'(x)]} \\\\\n",
    "&=1-2+\\lim_{x\\rightarrow x^*}\\frac{f(x)f'(x)}{f(x+f(x))-f(x)} + \\lim_{x\\rightarrow x^*}\\frac{f(x)^2}{f(x+f(x))-f(x)}\\lim_{x\\rightarrow x^*}\\frac{f{''}(x+f(x))(1+f'(x))^2+f{''}(x)f'(x+f(x))-f{''}(x)}{2f'(x+f(x))(1+f'(x))-f'(x)} \\\\\n",
    "&=-1+\\lim_{x\\rightarrow x^*}\\frac{f'(x)^2+f(x)f{''}(x)}{f'(f(x)+x)(1+f'(x))-f'(x)} + \\lim_{x\\rightarrow x^*}[\\frac{2f(x)f'(x)}{f'(x+f(x))(1+f'(x))-f'(x)}]\\frac{f{''}(x^*)(1+f'(x^*))^2+f{''}(x^*)f'(x^*)-f{''}(x^*)}{2f'(x^*)(1+f'(x^*))-f'(x^*)} \\\\\n",
    "&=-1+1 + 0[\\frac{f{''}(x^*)(1+f'(x^*))^2+f{''}(x^*)f'(x^*)-f{''}(x^*)}{2f'(x^*)(1+f'(x^*))-f'(x^*)}] \\\\\n",
    "&= 0 \\\\\n",
    "\\Rightarrow g'(x^*)&= 0\n",
    "\\end{aligned}\n",
    "$$\n",
    "Assuming $g(x)\\not \\equiv c$ for some $c\\in\\mathbb{R}$, some higher order derivative of g must be nonzero: there must exist $s>1$ s.t. $f^{(s)}(x)\\not\\equiv 0$.  Thus by the higher order convergence theorem, $g(x)$ must converge at least quadratically."
   ]
  },
  {
   "attachments": {},
   "cell_type": "markdown",
   "metadata": {},
   "source": [
    "# Problem 7\n",
    "$$\n",
    "\\begin{aligned}\n",
    "g'(x)&=1-\\frac{(f'(x))^2-f(x)f{''}(x)}{(f'(x))^2}-\\frac{2f'(x)f{'''}(x)-2f{''}(x)f{''}(x)}{4f{''}(x)f{''}(x)}[\\frac{f(x)}{f'(x)}]^2 - \\frac{f{''}(x)}{f'(x)}\\frac{f(x)}{f'(x)}\\frac{f(x)^2-f(x)f{''}(x)}{f'(x)^2} \\\\\n",
    "&= \\frac{f(x)f{''}(x)}{f'(x)^2}+\\frac{f(x)^2}{2f'(x)^2}-\\frac{f{'''}(x)f(x)^2}{2f'(x)f{''}(x)^2}-\\frac{f{''}(x)f(x)}{f'(x)^2}+\\frac{f{''}(x)^2f(x)^2}{f'(x)^4} \\\\\n",
    "\\Rightarrow g'(x^*)&=0 \\\\\n",
    "g'(x)&=f(x)[\\frac{f(x)}{2f'(x)^2}-\\frac{f{'''}(x)f(x)}{2f'(x)f{''}(x)^2}+\\frac{f{''}(x)^2f(x)}{f'(x)^4}] \\\\\n",
    "\\Rightarrow g{''}(x)&=f'(x)\\phi(x) + f(x)\\phi'(x) \\hspace{4em}\\text{for  }\\phi=\\frac{f(x)}{2f'(x)^2}-\\frac{f{'''}(x)f(x)}{2f'(x)f{''}(x)^2}+\\frac{f{''}(x)^2f(x)}{f'(x)^4} \\\\\n",
    "\\Rightarrow g{''}(x^*)&=f'(x^*)0+0\\phi'(x^*) \\\\\n",
    "&= 0\n",
    "\\end{aligned}\n",
    "$$\n",
    "Note that by the quotient rule, each term in $\\phi'(x^*)$ will contain nonzero values.\n",
    "\n",
    "By Taylor's Theorem,\n",
    "$$\n",
    "\\begin{aligned}\n",
    "g(x_n)&=g(x^*)+g'(x^*)(x_n-x^*)+\\frac12g{''}(x^*)(x_n-x^*)^2+\\frac16g{'''}(\\zeta)(x_n-x^*)^3 \\hspace{4em} \\text{for  }\\zeta\\in(x^*,x_n)\\\\\n",
    "\\Rightarrow x_{n+1} &= x^*+\\frac16g{'''}(\\zeta)(x_n-x^*)^3\\\\\n",
    "\\Rightarrow |x_{n+1}-x^*|&=\\frac16|g{'''}(\\zeta)||x_n-x^*|^3 \\\\\n",
    "&\\leq\\frac M6|x_n-x^*|^3 \\hspace{4em}\\text{for bound }M\\text{  of  }g{'''}(x)\\text{  on  }[x^*,x_n] \\\\\n",
    "\\Rightarrow\\lim_{n\\rightarrow\\infty}\\frac{|x_{n+1}-x^*|}{|x_n-x^*|^3}&\\leq\\frac M6\n",
    "\\end{aligned}\n",
    "$$"
   ]
  },
  {
   "attachments": {},
   "cell_type": "markdown",
   "metadata": {},
   "source": [
    "\n",
    "\n",
    "# Problem 8\n"
   ]
  },
  {
   "cell_type": "code",
   "execution_count": 6,
   "metadata": {},
   "outputs": [
    {
     "name": "stdout",
     "output_type": "stream",
     "text": [
      "0.9078585524534872\n",
      "0.9095675068671815\n",
      "0.9099168937459944\n",
      "0.9099888384861006\n",
      "0.910003697648647\n"
     ]
    }
   ],
   "source": [
    "\n",
    "x0 = 0.75\n",
    "f = lambda x: (math.e**x / 3)**0.5\n",
    "x = [x0]\n",
    "for i in range(6):\n",
    "  x.append(f(x[-1]))\n",
    "\n",
    "aitken = lambda i: x[i] - (x[i+1] - x[i])**2 / (x[i+2] - 2*x[i+1] + x[i])\n",
    "x2 = [aitken(i) for i in range(5)]\n",
    "for a in x2:\n",
    "  print(a)\n",
    "\n"
   ]
  },
  {
   "attachments": {},
   "cell_type": "markdown",
   "metadata": {},
   "source": [
    "\n",
    "\n",
    "# Problem 9\n"
   ]
  },
  {
   "cell_type": "code",
   "execution_count": 4,
   "metadata": {},
   "outputs": [],
   "source": [
    "\n",
    "def FPI(f, x0, alpha, N=100):\n",
    "  # need to figure out alpha\n",
    "  g = lambda x: x - alpha*f(x)\n",
    "  x = [x0]\n",
    "  for i in range(N):\n",
    "    try:\n",
    "      x.append(g(x[-1]))\n",
    "    except: pass\n",
    "  return x\n",
    "\n",
    "def newton(f, df, x0, N=100):\n",
    "  x = [x0]\n",
    "  for i in range(N):\n",
    "    x.append(x[-1] - f(x[-1]) / df(x[-1]))\n",
    "  return x\n",
    "\n",
    "def secant(f, x0, N=100):\n",
    "  x = [x0, f(x0)]\n",
    "  for i in range(N):\n",
    "    try:\n",
    "      x.append(x[-1] - f(x[-1])*(x[-1]-x[-2]) / (f(x[-1]) - f(x[-2])))\n",
    "    except ZeroDivisionError: pass\n",
    "  return x\n",
    "\n",
    "# def steffensen(f, x0, N=100):\n",
    "#   x = x0\n",
    "#   for i in range(N):\n",
    "#     try:\n",
    "#       xi0 = x\n",
    "#       xi1 = f(x)\n",
    "#       xi2 = f(xi1)\n",
    "#       #print(i,\"\\n\",x,\"\\n\",xi1,\"\\n\",xi2)\n",
    "#       x = xi0 - (xi1 - xi0)**2 / (xi2 - 2*xi1 + x)\n",
    "#     except ZeroDivisionError: pass\n",
    "#   return x\n",
    "\n",
    "def steffensen(f, x0, N=100):\n",
    "  x = [x0]\n",
    "  for i in range(N):\n",
    "    try:\n",
    "      x.append(x[-1] - f(x[-1])**2 / (f(x[-1] + f(x[-1])) - f(x[-1])))\n",
    "    except ZeroDivisionError: pass\n",
    "  return x\n",
    "\n"
   ]
  },
  {
   "cell_type": "markdown",
   "metadata": {},
   "source": [
    "\n",
    "### a)"
   ]
  },
  {
   "cell_type": "code",
   "execution_count": 98,
   "metadata": {},
   "outputs": [
    {
     "name": "stdout",
     "output_type": "stream",
     "text": [
      "FPI, alpha=-1/20: -0.5348469228349535\n",
      "FPI, alpha=-1/30: -0.5348469228349535\n",
      "Newton's Method: -0.5348469228349534\n",
      "Secant Method: -0.5348469228349534\n",
      "Steffensen's Method: -11.517858534230458\n"
     ]
    },
    {
     "data": {
      "text/plain": [
       "<function matplotlib.pyplot.show(*args, **kw)>"
      ]
     },
     "execution_count": 98,
     "metadata": {},
     "output_type": "execute_result"
    },
    {
     "data": {
      "image/png": "[encoded data removed]",
      "text/plain": [
       "<Figure size 432x288 with 1 Axes>"
      ]
     },
     "metadata": {
      "needs_background": "light"
     },
     "output_type": "display_data"
    }
   ],
   "source": [
    "\n",
    "F = lambda x: 10*x**2 - 4*x - 5\n",
    "dF = lambda x: 20*x - 4\n",
    "#1 - alpha*(20*x + 4)\n",
    "#FPI:\n",
    "fpi1 = FPI(F, -1, -1/20)\n",
    "fpi2 = FPI(F, -1, -1/30)\n",
    "#Newton:\n",
    "newt = newton(F, dF, -1)\n",
    "#secant:\n",
    "sec = secant(F,-1)\n",
    "#steffensen:\n",
    "stef = steffensen(F,-1)\n",
    "L = lambda X: list(range(len(X)))\n",
    "\n",
    "for method, result in zip([\"FPI, alpha=-1/20\",\"FPI, alpha=-1/30\",\"Newton's Method\",\"Secant Method\",\"Steffensen's Method\"],[fpi1, fpi2, newt, sec, stef]):\n",
    "    print(f\"{method}: {result[-1]}\")\n",
    "\n",
    "plt.plot(L(fpi1),fpi1, label=\"FPI, alpha= -1/20\")\n",
    "plt.plot(L(fpi2),fpi2, label=\"FPI, alpha= -1/30\")\n",
    "plt.plot(L(newt),newt,label=\"Newton\")\n",
    "plt.plot(L(sec),sec, label=\"Secant\")\n",
    "plt.plot(L(stef),stef, label=\"Steffensen\")\n",
    "plt.legend()\n",
    "plt.show\n"
   ]
  },
  {
   "cell_type": "markdown",
   "metadata": {},
   "source": [
    "\n",
    "### b)\n"
   ]
  },
  {
   "cell_type": "code",
   "execution_count": 99,
   "metadata": {},
   "outputs": [
    {
     "name": "stdout",
     "output_type": "stream",
     "text": [
      "FPI, alpha=2.5: 1.0242696071414192\n",
      "FPI, alpha=1: 1.03935015272538\n",
      "Newton's Method: 1.0000060716137125\n",
      "Secant Method: 1.0000035002296985\n",
      "Steffensen's Method: 1.0003166415823173\n"
     ]
    },
    {
     "data": {
      "text/plain": [
       "<function matplotlib.pyplot.show(*args, **kw)>"
      ]
     },
     "execution_count": 99,
     "metadata": {},
     "output_type": "execute_result"
    },
    {
     "data": {
      "image/png": "[encoded data removed]",
      "text/plain": [
       "<Figure size 432x288 with 1 Axes>"
      ]
     },
     "metadata": {
      "needs_background": "light"
     },
     "output_type": "display_data"
    }
   ],
   "source": [
    "\n",
    "F = lambda x: x**4 - x**3 - 3*x**2 + 5*x - 2\n",
    "dF = lambda x: 4*x**3 - 3*x**2 -6*x + 5\n",
    "\n",
    "#FPI:\n",
    "fpi1 = FPI(F, 1.3, 2.5)\n",
    "fpi2 = FPI(F, 1.3, 1)\n",
    "#Newton:\n",
    "newt = newton(F, dF, 1.3)\n",
    "#secant:\n",
    "sec = secant(F,1.3)\n",
    "#steffensen:\n",
    "stef = steffensen(F,1.3)\n",
    "L = lambda X: list(range(len(X)))\n",
    "\n",
    "for method, result in zip([\"FPI, alpha=2.5\",\"FPI, alpha=1\",\"Newton's Method\",\"Secant Method\",\"Steffensen's Method\"],[fpi1, fpi2, newt, sec, stef]):\n",
    "    print(f\"{method}: {result[-1]}\")\n",
    "\n",
    "plt.plot(L(fpi1),fpi1, label=\"FPI, alpha= 2.5\")\n",
    "plt.plot(L(fpi2),fpi2, label=\"FPI, alpha= 1\")\n",
    "plt.plot(L(newt),newt, label=\"Newton\")\n",
    "plt.plot(L(sec),sec, label=\"Secant\")\n",
    "plt.plot(L(stef),stef, label=\"Steffensen\")\n",
    "plt.legend()\n",
    "plt.show\n"
   ]
  },
  {
   "cell_type": "markdown",
   "metadata": {},
   "source": [
    "\n",
    "\n",
    "### c)\n"
   ]
  },
  {
   "cell_type": "code",
   "execution_count": 2,
   "metadata": {},
   "outputs": [
    {
     "ename": "NameError",
     "evalue": "name 'FPI' is not defined",
     "output_type": "error",
     "traceback": [
      "\u001b[1;31m---------------------------------------------------------------------------\u001b[0m",
      "\u001b[1;31mNameError\u001b[0m                                 Traceback (most recent call last)",
      "\u001b[1;32m<ipython-input-2-dc0f93a64570>\u001b[0m in \u001b[0;36m<module>\u001b[1;34m\u001b[0m\n\u001b[0;32m      3\u001b[0m \u001b[1;33m\u001b[0m\u001b[0m\n\u001b[0;32m      4\u001b[0m \u001b[1;31m#FPI:\u001b[0m\u001b[1;33m\u001b[0m\u001b[1;33m\u001b[0m\u001b[1;33m\u001b[0m\u001b[0m\n\u001b[1;32m----> 5\u001b[1;33m \u001b[0mfpi1\u001b[0m \u001b[1;33m=\u001b[0m \u001b[0mFPI\u001b[0m\u001b[1;33m(\u001b[0m\u001b[0mF\u001b[0m\u001b[1;33m,\u001b[0m \u001b[1;36m2\u001b[0m\u001b[1;33m,\u001b[0m \u001b[1;33m-\u001b[0m\u001b[1;36m1\u001b[0m\u001b[1;33m)\u001b[0m\u001b[1;33m\u001b[0m\u001b[1;33m\u001b[0m\u001b[0m\n\u001b[0m\u001b[0;32m      6\u001b[0m \u001b[0mfpi2\u001b[0m \u001b[1;33m=\u001b[0m \u001b[0mFPI\u001b[0m\u001b[1;33m(\u001b[0m\u001b[0mF\u001b[0m\u001b[1;33m,\u001b[0m \u001b[1;36m2\u001b[0m\u001b[1;33m,\u001b[0m \u001b[1;33m-\u001b[0m\u001b[1;36m0.2\u001b[0m\u001b[1;33m)\u001b[0m\u001b[1;33m\u001b[0m\u001b[1;33m\u001b[0m\u001b[0m\n\u001b[0;32m      7\u001b[0m \u001b[1;31m#Newton:\u001b[0m\u001b[1;33m\u001b[0m\u001b[1;33m\u001b[0m\u001b[1;33m\u001b[0m\u001b[0m\n",
      "\u001b[1;31mNameError\u001b[0m: name 'FPI' is not defined"
     ]
    }
   ],
   "source": [
    "\n",
    "F = lambda x: math.sin(x) - math.log(x)\n",
    "dF = lambda x: math.cos(x) - 1/x\n",
    "\n",
    "#FPI:\n",
    "fpi1 = FPI(F, 2, -1)\n",
    "fpi2 = FPI(F, 2, -0.2)\n",
    "#Newton:\n",
    "newt = newton(F, dF, 2)\n",
    "#secant:\n",
    "sec = secant(F,2)\n",
    "#steffensen:\n",
    "stef = steffensen(F,2)\n",
    "\n",
    "for method, result in zip([\"FPI, alpha=-1\",\"FPI, alpha=-3\",\"Newton's Method\",\"Secant Method\",\"Steffensen's Method\"],[fpi1, fpi2, newt, sec, stef]):\n",
    "    print(f\"{method}: {result[-1]}\")\n",
    "\n",
    "plt.plot(L(fpi1),fpi1, label=\"FPI, alpha= -1\")\n",
    "plt.plot(L(fpi2),fpi2, label=\"FPI, alpha= -3\")\n",
    "plt.plot(L(newt),newt, label=\"Newton\")\n",
    "plt.plot(L(sec),sec, label=\"Secant\")\n",
    "plt.plot(L(stef),stef, label=\"Steffensen\")\n",
    "plt.legend()\n",
    "plt.show\n"
   ]
  },
  {
   "cell_type": "code",
   "execution_count": 6,
   "metadata": {},
   "outputs": [
    {
     "name": "stdout",
     "output_type": "stream",
     "text": [
      "[1, -7.4727406398312315, 14.478520982873837, 6.935115408046103, 16.63568412143092, 8.34393754931617, 4.954632724340541, -8.301317997721647, -4.81731993387143, 3.7925744878946874, 1.861060942709181, 1.8962142114143934, 1.8954945666276892, 1.895494267034033, 1.895494267033981, 1.895494267033981, 1.895494267033981, 1.895494267033981, 1.895494267033981, 1.895494267033981, 1.895494267033981, 1.895494267033981, 1.895494267033981, 1.895494267033981, 1.895494267033981, 1.895494267033981, 1.895494267033981, 1.895494267033981, 1.895494267033981, 1.895494267033981, 1.895494267033981, 1.895494267033981, 1.895494267033981, 1.895494267033981, 1.895494267033981, 1.895494267033981, 1.895494267033981, 1.895494267033981, 1.895494267033981, 1.895494267033981, 1.895494267033981, 1.895494267033981, 1.895494267033981, 1.895494267033981, 1.895494267033981, 1.895494267033981, 1.895494267033981, 1.895494267033981, 1.895494267033981, 1.895494267033981, 1.895494267033981, 1.895494267033981, 1.895494267033981, 1.895494267033981, 1.895494267033981, 1.895494267033981, 1.895494267033981, 1.895494267033981, 1.895494267033981, 1.895494267033981, 1.895494267033981, 1.895494267033981, 1.895494267033981, 1.895494267033981, 1.895494267033981, 1.895494267033981, 1.895494267033981, 1.895494267033981, 1.895494267033981, 1.895494267033981, 1.895494267033981, 1.895494267033981, 1.895494267033981, 1.895494267033981, 1.895494267033981, 1.895494267033981, 1.895494267033981, 1.895494267033981, 1.895494267033981, 1.895494267033981, 1.895494267033981, 1.895494267033981, 1.895494267033981, 1.895494267033981, 1.895494267033981, 1.895494267033981, 1.895494267033981, 1.895494267033981, 1.895494267033981, 1.895494267033981, 1.895494267033981, 1.895494267033981, 1.895494267033981, 1.895494267033981, 1.895494267033981, 1.895494267033981, 1.895494267033981, 1.895494267033981, 1.895494267033981, 1.895494267033981, 1.895494267033981]\n"
     ]
    }
   ],
   "source": [
    "F = lambda x: x**2 + 4*math.cos(x)\n",
    "F = lambda x: 2*x - 4*math.sin(x)\n",
    "dF = lambda x: 2 - 4*math.cos(x)\n",
    "\n",
    "newt = newton(F,dF,1)\n",
    "print(newt)"
   ]
  },
  {
   "attachments": {},
   "cell_type": "markdown",
   "metadata": {},
   "source": [
    "# Problem 10\n",
    "### a)"
   ]
  },
  {
   "cell_type": "code",
   "execution_count": 93,
   "metadata": {},
   "outputs": [
    {
     "name": "stdout",
     "output_type": "stream",
     "text": [
      "Alpha = 0.01\n",
      "x* = 0.1999995210951435\n",
      "Completed in 58 iterations.\n",
      "\n",
      "Alpha = 0.05\n",
      "x* = 0.2\n",
      "Completed in 1 iterations.\n",
      "\n",
      "Alpha = 2\n",
      "x* = -255558716510693824674537449010434911861914569149854421106803114134089547153738625028717782550797070641885149999885800538671581040229223258427250623004869423200\n",
      "Completed in 100 iterations.\n",
      "\n"
     ]
    }
   ],
   "source": [
    "F = lambda x: 10*x**2 - 4*x + 5\n",
    "dF = lambda x: 20*x - 4\n",
    "tol = 10**-5\n",
    "a1, a2, a3 = 1/100, 1/20, 2\n",
    "\n",
    "def FPI2(f, x0, alpha, tol=tol):\n",
    "  g = lambda x: x - alpha*f(x)\n",
    "  x = x0\n",
    "  count = 0\n",
    "  while abs(f(x)) >= tol and count < 100:\n",
    "    x = g(x)\n",
    "    count += 1\n",
    "  print(f\"Alpha = {alpha}\\nx* = {x}\\nCompleted in {count} iterations.\\n\")\n",
    "\n",
    "\n",
    "FPI2(dF, 0, a1)\n",
    "FPI2(dF, 0, a2)\n",
    "FPI2(dF, 0, a3)"
   ]
  },
  {
   "attachments": {},
   "cell_type": "markdown",
   "metadata": {},
   "source": [
    "### b)"
   ]
  },
  {
   "cell_type": "code",
   "execution_count": 94,
   "metadata": {},
   "outputs": [
    {
     "name": "stdout",
     "output_type": "stream",
     "text": [
      "x* = 0.2\n",
      "Completed in 1 iterations.\n"
     ]
    }
   ],
   "source": [
    "d2F = lambda x: 20\n",
    "\n",
    "def newton2(f, df, x0, tol=tol):\n",
    "  x = x0\n",
    "  count = 0\n",
    "  while abs(f(x)) >= tol and count < 100:\n",
    "    x = x - f(x)/df(x)\n",
    "    count += 1\n",
    "  return (x,count)\n",
    "\n",
    "x, count = newton2(dF,d2F,0)\n",
    "print(f\"x* = {x}\\nCompleted in {count} iterations.\")\n"
   ]
  }
 ],
 "metadata": {
  "kernelspec": {
   "display_name": "Python 3",
   "language": "python",
   "name": "python3"
  },
  "language_info": {
   "codemirror_mode": {
    "name": "ipython",
    "version": 3
   },
   "file_extension": ".py",
   "mimetype": "text/x-python",
   "name": "python",
   "nbconvert_exporter": "python",
   "pygments_lexer": "ipython3",
   "version": "3.7.7 (tags/v3.7.7:d7c567b08f, Mar 10 2020, 10:41:24) [MSC v.1900 64 bit (AMD64)]"
  },
  "orig_nbformat": 4,
  "vscode": {
   "interpreter": {
    "hash": "c0d2548f5ed062550b1404f8400d6f7d40aa696909cc81b29261ca9cde4cc4f3"
   }
  }
 },
 "nbformat": 4,
 "nbformat_minor": 2
}
