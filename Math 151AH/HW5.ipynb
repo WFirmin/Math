{
 "cells": [
  {
   "attachments": {},
   "cell_type": "markdown",
   "metadata": {},
   "source": [
    "# Will Firmin\n",
    "# Math 151AH: HW4\n",
    "# Problem 1)\n",
    "### Part a)\n",
    "$w'_{n+1}(x)=\\sum_{k=0}^n\\prod_{j=0,j\\not =k}^n(x-x_j)$ by the product rule\n",
    "\n",
    "$\\Rightarrow w'_{n+1}(x_i)=\\prod_{j=0,j\\not=i}^n$ since each term is 0 if $i\\not=k$\n",
    "\n",
    "Therefore $w_i=\\frac1{w'_{n+1}(x_i)}$\n",
    "\n",
    "### Part b)\n",
    "RHS is a polynomial of degree $n+1$ with $n+1$ unique roots.  $T_n$ has a leading coefficient of $2^{n-1}$, which gives that $T'_n$ has a leading coefficient of $2^{n-1}n$ by the power rule.  Therefore $T'_n(x)(x+1)(x-1)$ has a leading coefficient of $2^{n-1}n$, so in total RHS is a monic polynomial.  Both RHS and LHS are monic polynomials of degree $n+1$ with the same $n+1$ roots, so we must have that $w_{n+1}(x)=\\frac{T'_n(x)(x+1)(x-1)}{2^{n-1}n}$.\n",
    "\n",
    "### Part c)\n",
    "$$\\begin{aligned}\n",
    "T_n(x)&=\\cos(n\\arccos(x)) \\\\\n",
    "\\Rightarrow T'_n(x)&=n\\sin(n\\arccos(x))(1-x^2)^{-\\frac12} \\\\\n",
    "\\Rightarrow T{''}(x)&=-n^2\\cos(n\\arccos(x))(1-x^2)^{-1}+\\frac12n\\sin(n\\arccos(x))(1-x^2)^{-\\frac32}(2x)\\\\\n",
    "\\Rightarrow L.H.S.&=-n^2\\cos(n\\arccos(x))+xn\\sin(n\\arccos(x))(1-x^2)^{-\\frac12} -xn\\sin(n\\arccos(x))(1-x^2)^{-\\frac12}+n^2\\cos(n\\arccos(x))\\\\\n",
    "&=0\n",
    "\\end{aligned}$$\n",
    "\n",
    "### Part d)\n",
    "$$\\begin{aligned}\n",
    "w'_{n+1}(x)&=\\frac{T{''}_n(x)(x^2-1)+T_n'(x)(x-1)+T_n'(x)(x+1)}{2^{n-1}n} \\\\\n",
    "&=\\frac1{2^{n-1}n}((x^2-1)T{''}_n(x)+2xT'_n(x)) \\\\\n",
    "&=-(2^{n-1}n)^{-1}[(1-x^2)T{''}_n(x)-2xT'_n(x)] \\\\\n",
    "\\Rightarrow w_i&=(2^{n-1}n)[n^2T_n(x_i)+x_iT'_n(x_i)]^{-1}\\\\\n",
    "&=2^{n-1}n(n^2(-1)^i+x_iT'_n(x_i))^{-1} \\\\\n",
    "\\text{For }i\\in\\{1,...,n-1\\}: \\\\\n",
    "&=\\frac{2^{n-1}}n(-1)^i\\;\\text{ since }T'(x_i)=0\n",
    "\\end{aligned}$$\n",
    "\n",
    "Using L'Hopital's Rule, $\\lim_{x\\rightarrow1}T_n'(x)=n^2$ and $\\lim_{x\\rightarrow-1}T_n'(x)=n^2(-1)^{n+1}$.  This gives that\n",
    "$$\\begin{aligned}\n",
    "w_0&=2^{n-1}n[n^2(-1)^0+x_0T'_n(x_0)]^{-1} \\\\\n",
    "&=2^{n-1}n[n^2+n^2]^{-1} \\\\\n",
    "&=\\frac{2^{n-1}}{n}\\frac12\\\\\n",
    "w_1 &= 2^{n-1}n[n^2(-1)^n+n^2(-1)^n]^{-1}\\\\\n",
    "&=\\frac{2^{n-1}}n\\frac12(-1)^n\n",
    "\\end{aligned}$$"
   ]
  },
  {
   "attachments": {},
   "cell_type": "markdown",
   "metadata": {},
   "source": [
    "# Problem 2)"
   ]
  },
  {
   "cell_type": "code",
   "execution_count": 35,
   "metadata": {},
   "outputs": [
    {
     "data": {
      "image/png": "[encoded data removed]",
      "text/plain": [
       "<Figure size 432x288 with 1 Axes>"
      ]
     },
     "metadata": {
      "needs_background": "light"
     },
     "output_type": "display_data"
    }
   ],
   "source": [
    "import numpy as np\n",
    "import math\n",
    "import datetime\n",
    "\n",
    "f = lambda x: np.abs(x) + 0.5*x - x**2\n",
    "n1 = 50\n",
    "n3 = 500\n",
    "nodes1 = [math.cos(i*math.pi / (n1-1)) for i in range(n1)]\n",
    "nodes3 = [math.cos(i*math.pi / (n3-1)) for i in range(n3)]\n",
    "n2 = 5000\n",
    "nodes2 = [-1 + 2*i/(n2-1) for i in range(n2)]\n",
    "diffs = {}\n",
    "\n",
    "\n",
    "def dDiff(f,x):\n",
    "    try:\n",
    "        if len(x)==1: return f(x[0])\n",
    "    except:\n",
    "        return f(x)\n",
    "    else:\n",
    "        lab = \",\".join([str(k) for k in x])\n",
    "        try: return diffs[lab]\n",
    "        except:\n",
    "            dif = (dDiff(f,x[1:]) - dDiff(f,x[:-1]))/(x[-1]-x[0])\n",
    "            diffs[lab] = dif\n",
    "            return dif\n",
    "    \n",
    "def w(k,x):\n",
    "    if k == 0: return 1\n",
    "    else: return np.prod(np.array([x-nodes1[j] for j in range(k)]))\n",
    "\n",
    "def P1(x):\n",
    "    return sum([dDiff(f,nodes1[0:k+1])*w(k,x) for k in range(len(nodes1))])\n",
    "\n",
    "# Barycentric:\n",
    "wi = [(np.prod(np.array([nodes3[i]-nodes3[j] for j in range(n3) if not i == j])))**-1 for i in range(n3)]\n",
    "#def wi(i):\n",
    "#    return (np.prod(np.array([nodes1[i]-nodes1[j] for j in range(len(nodes1)) if not i == j])))**-1\n",
    "\n",
    "def P2(x):\n",
    "    if x in nodes3: return f(x)\n",
    "    return sum([wi[i]/(x-nodes3[i])*f(nodes3[i]) for i in range(n3)]) / sum([wi[i]/(x-nodes3[i]) for i in range(n3)])\n",
    "\n",
    "import matplotlib.pyplot as plt\n",
    "#plt.plot(nodes2, [f(x) for x in nodes2], label=\"f(x)\")\n",
    "#plt.plot(nodes2, [P1(x) for x in nodes2], label=\"Divided Differences\")\n",
    "plt.plot(nodes2, [P2(x) for x in nodes2])\n",
    "plt.show()"
   ]
  },
  {
   "attachments": {},
   "cell_type": "markdown",
   "metadata": {},
   "source": [
    "# Problem 3)\n"
   ]
  },
  {
   "attachments": {},
   "cell_type": "markdown",
   "metadata": {},
   "source": [
    "# Problem 5)"
   ]
  },
  {
   "cell_type": "code",
   "execution_count": 49,
   "metadata": {},
   "outputs": [
    {
     "data": {
      "image/png": "[encoded data removed]",
      "text/plain": [
       "<Figure size 432x288 with 1 Axes>"
      ]
     },
     "metadata": {
      "needs_background": "light"
     },
     "output_type": "display_data"
    }
   ],
   "source": [
    "f = lambda x: math.e**x\n",
    "centerDiff = lambda f,x,h: (f(x+h)-f(x-h))/(2*h)\n",
    "h=1\n",
    "E = {}\n",
    "while h**-1 <= 10**9:\n",
    "    E[h] = np.abs(centerDiff(f,1,h)-math.e)/math.e\n",
    "    h /= 2\n",
    "\n",
    "plt.plot(np.log(list(E.keys())), np.log(list(E.values())))\n",
    "plt.show()"
   ]
  },
  {
   "cell_type": "code",
   "execution_count": 44,
   "metadata": {},
   "outputs": [
    {
     "data": {
      "text/plain": [
       "[0, 2]"
      ]
     },
     "execution_count": 44,
     "metadata": {},
     "output_type": "execute_result"
    }
   ],
   "source": [
    "E = {}\n",
    "E[1] = 0\n",
    "E[4] = 2\n",
    "list(E.values())"
   ]
  }
 ],
 "metadata": {
  "kernelspec": {
   "display_name": "Python 3",
   "language": "python",
   "name": "python3"
  },
  "language_info": {
   "codemirror_mode": {
    "name": "ipython",
    "version": 3
   },
   "file_extension": ".py",
   "mimetype": "text/x-python",
   "name": "python",
   "nbconvert_exporter": "python",
   "pygments_lexer": "ipython3",
   "version": "3.7.7"
  },
  "orig_nbformat": 4
 },
 "nbformat": 4,
 "nbformat_minor": 2
}
