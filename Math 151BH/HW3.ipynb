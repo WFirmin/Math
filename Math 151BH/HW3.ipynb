{
 "cells": [
  {
   "cell_type": "code",
   "execution_count": 28,
   "metadata": {},
   "outputs": [
    {
     "data": {
      "text/plain": [
       "[<matplotlib.lines.Line2D at 0x2087972b4c8>]"
      ]
     },
     "execution_count": 28,
     "metadata": {},
     "output_type": "execute_result"
    },
    {
     "data": {
      "image/png": "[encoded data removed]",
      "text/plain": [
       "<Figure size 432x288 with 1 Axes>"
      ]
     },
     "metadata": {
      "needs_background": "light"
     },
     "output_type": "display_data"
    }
   ],
   "source": [
    "import numpy as np\n",
    "import math\n",
    "import matplotlib.pyplot as plt\n",
    "\n",
    "yexact = lambda x: 1 -x + x**2 + x**3\n",
    "f = lambda x: -2 -6*x\n",
    "\n",
    "\n",
    "\n",
    "ns = [2**i for i in range(3,11)]\n",
    "\n",
    "def CG(n,b):\n",
    "    m = len(b)\n",
    "    bnorm = np.linalg.norm(b,2)\n",
    "    Aprod = lambda v: (n)**2 *(((v[:-1]-v[1:])**2).sum() + v[0]**2 + v[-1]**2)\n",
    "    def Amult(v):\n",
    "        w = np.zeros(len(v))\n",
    "        w[1:-1] = (n)**2 *(2*v[1:-1]-v[:-2]-v[2:])\n",
    "        w[0] = (n)**2 *(2*v[0]-v[1])\n",
    "        w[-1] = (n)**2 *(2*v[-1]-v[-2])\n",
    "        return w\n",
    "    x = np.zeros(m)\n",
    "    r = b\n",
    "    p = r\n",
    "    count = 0\n",
    "    while(count <= n and np.linalg.norm(r,2)/bnorm >= 10**(-10)):\n",
    "        alpha = np.linalg.norm(r,2)**2/Aprod(p)\n",
    "        x = x + alpha*p\n",
    "        r1 = r\n",
    "        r = r - alpha*Amult(p)\n",
    "        beta = np.linalg.norm(r,2)**2/np.linalg.norm(r1,2)**2\n",
    "        p = r + beta*p\n",
    "        count += 1\n",
    "    return x\n",
    "\n",
    "\n",
    "results = []\n",
    "for N in ns:\n",
    "    X = np.linspace(0,1,N+1)[1:-1]\n",
    "    fh = np.array([f(x) for x in X])\n",
    "    fh[0] += N**2\n",
    "    fh[-1] += 2*N**2\n",
    "    yexac = np.array([yexact(x) for x in X])\n",
    "    CG(N,fh)\n",
    "    results.append(np.linalg.norm(CG(N,fh)-yexac,np.Inf))\n",
    "    \n",
    "\n",
    "plt.plot(np.log([1/n for n in ns]),np.log(results))\n",
    "\n",
    "\n",
    "\n",
    "\n",
    "\n"
   ]
  },
  {
   "cell_type": "code",
   "execution_count": null,
   "metadata": {},
   "outputs": [],
   "source": []
  }
 ],
 "metadata": {
  "kernelspec": {
   "display_name": "Python 3",
   "language": "python",
   "name": "python3"
  },
  "language_info": {
   "codemirror_mode": {
    "name": "ipython",
    "version": 3
   },
   "file_extension": ".py",
   "mimetype": "text/x-python",
   "name": "python",
   "nbconvert_exporter": "python",
   "pygments_lexer": "ipython3",
   "version": "3.7.7"
  },
  "orig_nbformat": 4
 },
 "nbformat": 4,
 "nbformat_minor": 2
}
