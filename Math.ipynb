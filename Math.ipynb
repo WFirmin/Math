{
 "cells": [
  {
   "attachments": {},
   "cell_type": "markdown",
   "metadata": {},
   "source": [
    "# Math 164\n",
    "## Line Search Methods\n",
    "### Golden Section\n",
    "Assumes $f(x)$ is unimodal: only one local minimizer on $[a,b]$"
   ]
  },
  {
   "cell_type": "code",
   "execution_count": 86,
   "metadata": {},
   "outputs": [
    {
     "data": {
      "text/plain": [
       "(3.347, 3.3470000000000004)"
      ]
     },
     "execution_count": 86,
     "metadata": {},
     "output_type": "execute_result"
    }
   ],
   "source": [
    "import numpy as np\n",
    "import math\n",
    "\n",
    "def GoldenSection(f,a,b, tol=0, N=100):\n",
    "    # f is a function to minimize, [a,b] is the range to minimize over\n",
    "\n",
    "    # Define range and find number of necessary iterations (if not specified)\n",
    "    R = b-a\n",
    "    p = (3-math.sqrt(5))/2\n",
    "    if tol > 0:\n",
    "        N = math.ceil(math.log(tol/R, 1-p))\n",
    "    \n",
    "    # Set initial conditions\n",
    "    p0,q0 = (a,f(a)),(b,f(b))\n",
    "    p1,q1 = a+p*R, b-p*R\n",
    "    p1,q1 = (p1, f(p1)),(q1,f(q1))\n",
    "\n",
    "    # Iterate and update search range\n",
    "    for n in range(N):\n",
    "        if p1[1] < q1[1]:\n",
    "            q0,q1 = q1,p1\n",
    "            p1 = p0[0]+p*(q0[0]-p0[0])\n",
    "            p1 = (p1,f(p1))\n",
    "        else:\n",
    "            p0,p1 = p1,q1\n",
    "            q1 = q0[0]-p*(q0[0]-p0[0])\n",
    "            q1 = (q1,f(q1))\n",
    "    return (p0[0],q0[0])\n",
    "\n",
    "\n",
    "g = lambda x: (x-3.347)**2\n",
    "GoldenSection(g,-5,5)\n"
   ]
  },
  {
   "attachments": {},
   "cell_type": "markdown",
   "metadata": {},
   "source": [
    "### Fibonacci Method\n",
    "Same assumptions as before"
   ]
  },
  {
   "cell_type": "code",
   "execution_count": 87,
   "metadata": {},
   "outputs": [
    {
     "data": {
      "text/plain": [
       "(3.235, 3.2350000000000003)"
      ]
     },
     "execution_count": 87,
     "metadata": {},
     "output_type": "execute_result"
    }
   ],
   "source": [
    "# Useful functions:\n",
    "\n",
    "def Fibonacci(n):\n",
    "    n = n+1\n",
    "    return ((1+math.sqrt(5))**n - (1-math.sqrt(5))**n) / (2**n * math.sqrt(5))\n",
    "\n",
    "def invFibonacci(F):\n",
    "    if F < 2: return 1\n",
    "    return round(math.log(math.sqrt(5)*(F-0.5),(1+math.sqrt(5))/2))-1\n",
    "\n",
    "def pFib(k,N):\n",
    "    if k == 1: return 1 - Fibonacci(N)/Fibonacci(N+1)\n",
    "    elif k == N: return 0.5-0.00001\n",
    "    else: return 1 - Fibonacci(N-k+1)/Fibonacci(N-k+2)\n",
    "\n",
    "# Main function:\n",
    "\n",
    "def FibonacciMethod(f,a,b,tol=0,N=100):\n",
    "    # Define range and find number of necessary iterations (if not specified)\n",
    "    R = b-a\n",
    "    if tol > 0:\n",
    "        N = invFibonacci(R/tol) # +/- 1\n",
    "        # R/tol < fibN+1\n",
    "    \n",
    "    # Set initial conditions\n",
    "    p = pFib(1,N)\n",
    "    p0,q0 = (a,f(a)),(b,f(b))\n",
    "    p1,q1 = a+p*R, b-p*R\n",
    "    p1,q1 = (p1, f(p1)),(q1,f(q1))\n",
    "\n",
    "    # Iterate and update search range\n",
    "    for k in range(2,N+1):\n",
    "        p = pFib(k,N)\n",
    "        if p1[1] < q1[1]:\n",
    "            q0,q1 = q1,p1\n",
    "            p1 = p0[0]+p*(q0[0]-p0[0])\n",
    "            p1 = (p1,f(p1))\n",
    "        else:\n",
    "            p0,p1 = p1,q1\n",
    "            q1 = q0[0]-p*(q0[0]-p0[0])\n",
    "            q1 = (q1,f(q1))\n",
    "    return (p0[0],q0[0])\n",
    "\n",
    "g = lambda x: (x-3.235)**2\n",
    "FibonacciMethod(g,-5,5)"
   ]
  },
  {
   "attachments": {},
   "cell_type": "markdown",
   "metadata": {},
   "source": [
    "### Bisection Method\n",
    "Same assumptions but also requires the derivative to be known"
   ]
  },
  {
   "cell_type": "code",
   "execution_count": 99,
   "metadata": {},
   "outputs": [
    {
     "data": {
      "text/plain": [
       "(4.78, 4.78)"
      ]
     },
     "execution_count": 99,
     "metadata": {},
     "output_type": "execute_result"
    }
   ],
   "source": [
    "def BisectionMethod(df,a,b,tol=0,N=100):\n",
    "    # Define range and find necessary number of iterations (if not specified)\n",
    "    R = b-a\n",
    "    if tol>0:\n",
    "        N = math.ceil(math.log(tol/R, 0.5))\n",
    "    \n",
    "    # Set initial conditions\n",
    "    p,q = a,b\n",
    "\n",
    "    # Iterate and update search range\n",
    "    for k in range(N):\n",
    "        x = (p+q)/2\n",
    "        if df(x) < 0:\n",
    "            p = x\n",
    "        elif df(x) > 0:\n",
    "            q = x\n",
    "        else:\n",
    "            return (x,x)\n",
    "    return (p,q)\n",
    "\n",
    "g = lambda x: (x-4.78)**2\n",
    "dg = lambda x: 2*(x-4.78)\n",
    "BisectionMethod(dg,-5,10)"
   ]
  }
 ],
 "metadata": {
  "kernelspec": {
   "display_name": "Python 3",
   "language": "python",
   "name": "python3"
  },
  "language_info": {
   "codemirror_mode": {
    "name": "ipython",
    "version": 3
   },
   "file_extension": ".py",
   "mimetype": "text/x-python",
   "name": "python",
   "nbconvert_exporter": "python",
   "pygments_lexer": "ipython3",
   "version": "3.7.7"
  },
  "orig_nbformat": 4,
  "vscode": {
   "interpreter": {
    "hash": "c0d2548f5ed062550b1404f8400d6f7d40aa696909cc81b29261ca9cde4cc4f3"
   }
  }
 },
 "nbformat": 4,
 "nbformat_minor": 2
}
